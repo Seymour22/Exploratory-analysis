{
 "cells": [
  {
   "cell_type": "markdown",
   "metadata": {},
   "source": [
    "## Analysis of facial assemetry and brain atrophy"
   ]
  },
  {
   "cell_type": "markdown",
   "metadata": {},
   "source": [
    "This project was to determine features that are associated with the facial assymetry in patients with epilepsy\n",
    "\n",
    "The notebook is divided into 3 parts\n",
    "1) Data pre-processing\n",
    "2) Building a LASSO model for feature selection\n",
    "3) Model implementation"
   ]
  },
  {
   "cell_type": "markdown",
   "metadata": {},
   "source": [
    "### 1) Data pre-processing <a id='Datapre-processing' />"
   ]
  },
  {
   "cell_type": "code",
   "execution_count": null,
   "metadata": {},
   "outputs": [],
   "source": [
    "import numpy as np\n",
    "import pandas as pd\n",
    "from pandas import Series, DataFrame\n",
    "from sklearn.linear_model import LinearRegression\n",
    "from sklearn import metrics\n",
    "import matplotlib.pyplot as plt\n",
    "import statsmodels.api as sm\n",
    "import seaborn as sns\n",
    "%matplotlib inline\n",
    "from sklearn.model_selection import train_test_split\n",
    "from sklearn.linear_model import Lasso\n",
    "from sklearn.model_selection import KFold\n",
    "from sklearn.preprocessing import StandardScaler"
   ]
  },
  {
   "cell_type": "code",
   "execution_count": null,
   "metadata": {},
   "outputs": [],
   "source": [
    "I1data_cortical1=pd.read_csv(\"Face_Assy_1CorticalMeasuresENIGMA_ThickAvg.csv\")\n",
    "I1data_subcortical1=pd.read_csv(\"Face_Assy_1LandRvolumes.csv\")\n",
    "I1data_subfeilds1=pd.read_csv(\"Face_Assy_1LandRhipposubfeilds.csv\")\n",
    "print(I1data_cortical1.shape)\n",
    "print(I1data_subcortical1.shape)\n",
    "print(I1data_subfeilds1.shape)"
   ]
  },
  {
   "cell_type": "code",
   "execution_count": null,
   "metadata": {},
   "outputs": [],
   "source": [
    "I2data_cortical1=pd.read_csv(\"Face_Assy_2CorticalMeasuresENIGMA_ThickAvg.csv\")\n",
    "I2data_subcortical1=pd.read_csv(\"Face_Assy_2LandRvolumes.csv\")\n",
    "I2data_subfeilds1=pd.read_csv(\"Face_Assy_2LandRhipposubfeilds.csv\")\n",
    "print(I2data_cortical1.shape)\n",
    "print(I2data_subcortical1.shape)\n",
    "print(I2data_subfeilds1.shape)"
   ]
  },
  {
   "cell_type": "code",
   "execution_count": null,
   "metadata": {},
   "outputs": [],
   "source": [
    "data_cortical1=pd.concat([I1data_cortical1, I2data_cortical1], axis=0)\n",
    "data_subcortical1=pd.concat([I1data_subcortical1, I2data_subcortical1], axis=0)\n",
    "data_subfeilds1=pd.concat([I1data_subfeilds1, I2data_subfeilds1], axis=0)\n",
    "print(data_cortical1.shape)\n",
    "print(data_subcortical1.shape)\n",
    "print(data_subfeilds1.shape)"
   ]
  },
  {
   "cell_type": "code",
   "execution_count": null,
   "metadata": {},
   "outputs": [],
   "source": [
    "#delete excess ICV columns\n",
    "del data_subcortical1[\"ICV\"]\n",
    "del data_subfeilds1[\"ICV\"]"
   ]
  },
  {
   "cell_type": "code",
   "execution_count": null,
   "metadata": {},
   "outputs": [],
   "source": [
    "data_cortical1_subcortical1=pd.merge(data_cortical1, data_subcortical1, on=['SubjID'], how='inner')\n",
    "data_cortical1_subcortical1_subfeilds1=pd.merge(data_cortical1_subcortical1, data_subfeilds1, on=['SubjID'], how='inner')\n",
    "data_cortical1_subcortical1_subfeilds1 = data_cortical1_subcortical1_subfeilds1.loc[:,~data_cortical1_subcortical1_subfeilds1.columns.duplicated()]"
   ]
  },
  {
   "cell_type": "code",
   "execution_count": null,
   "metadata": {},
   "outputs": [],
   "source": [
    "all_face_asy1=pd.read_csv('Data_Face_Asy.csv')\n",
    "all_face_asy1_no_dup=all_face_asy1.drop_duplicates(subset=['SubjID'])\n",
    "sai_scans1=pd.read_csv(\"new_subj_to_use_face_asymmetry_SV.csv\")\n",
    "data_correct_scan1=pd.merge(all_face_asy1_no_dup, sai_scans1, on=['SubjID_exam'], how='inner')"
   ]
  },
  {
   "cell_type": "code",
   "execution_count": null,
   "metadata": {},
   "outputs": [],
   "source": [
    "cov1=pd.read_csv(\"Face_assemetry_simona.csv\")\n",
    "cov1['subj_number'] = cov1['subject_code_Sjoerd'].astype(str).str[0:10]\n",
    "cov1=cov1.rename(columns={\"age at DSM\": \"age_at_DSM\"})\n",
    "Segments_plus_cov1=pd.merge(data_correct_scan1, cov1, on=['subj_number'], how='inner')\n",
    "Segments_plus_cov1 = Segments_plus_cov1.loc[:,~Segments_plus_cov1.columns.duplicated()]\n",
    "Segments_plus_cov1\n"
   ]
  },
  {
   "cell_type": "code",
   "execution_count": null,
   "metadata": {},
   "outputs": [],
   "source": [
    "I1data_cortical2=pd.read_csv(\"Inclusions_767_1CorticalMeasuresENIGMA_ThickAvg.csv\")\n",
    "I1data_subcortical2=pd.read_csv(\"Inclusions_767_1LandRvolumes.csv\")\n",
    "I1data_subfeilds2=pd.read_csv(\"Inclusions_767_1LandRhipposubfeilds.csv\")\n",
    "print(I1data_cortical2.shape)\n",
    "print(I1data_subcortical2.shape)\n",
    "print(I1data_subfeilds2.shape)"
   ]
  },
  {
   "cell_type": "code",
   "execution_count": null,
   "metadata": {},
   "outputs": [],
   "source": [
    "I2data_cortical2=pd.read_csv(\"Inclusions_767_2CorticalMeasuresENIGMA_ThickAvg.csv\")\n",
    "I2data_subcortical2=pd.read_csv(\"Inclusions_767_2LandRvolumes.csv\")\n",
    "I2data_subfeilds2=pd.read_csv(\"Inclusions_767_2LandRhipposubfeilds.csv\")\n",
    "print(I2data_cortical2.shape)\n",
    "print(I2data_subcortical2.shape)\n",
    "print(I2data_subfeilds2.shape)"
   ]
  },
  {
   "cell_type": "code",
   "execution_count": null,
   "metadata": {},
   "outputs": [],
   "source": [
    "data_cortical2=pd.concat([I1data_cortical2, I2data_cortical2], axis=0)\n",
    "data_subcortical2=pd.concat([I1data_subcortical2, I2data_subcortical2], axis=0)\n",
    "data_subfeilds2=pd.concat([I1data_subfeilds2, I2data_subfeilds2], axis=0)\n",
    "print(data_cortical2.shape)\n",
    "print(data_subcortical2.shape)\n",
    "print(data_subfeilds2.shape)\n"
   ]
  },
  {
   "cell_type": "code",
   "execution_count": null,
   "metadata": {},
   "outputs": [],
   "source": [
    "#Delete excess ICVs\n",
    "del data_subcortical2[\"ICV\"]\n",
    "del data_subfeilds2[\"ICV\"]"
   ]
  },
  {
   "cell_type": "code",
   "execution_count": null,
   "metadata": {},
   "outputs": [],
   "source": [
    "data_cortical2_subcortical2=pd.merge(data_cortical2, data_subcortical2, on=['SubjID'], how='inner')\n",
    "data_cortical2_subcortical2_subfeilds2=pd.merge(data_cortical2_subcortical2, data_subfeilds2, on=['SubjID'], how='inner')\n",
    "data_cortical2_subcortical2_subfeilds2 = data_cortical2_subcortical2_subfeilds2.loc[:,~data_cortical2_subcortical2_subfeilds2.columns.duplicated()]"
   ]
  },
  {
   "cell_type": "code",
   "execution_count": null,
   "metadata": {},
   "outputs": [],
   "source": [
    "all_face_asy2=pd.read_csv('Data_767_subjs.csv')\n",
    "all_face_asy2_no_dup=all_face_asy2.drop_duplicates(subset=['SubjID'])\n",
    "all_face_asy2_no_dup=all_face_asy2.drop_duplicates(subset=['SubjID_exam'])\n",
    "sai_scans2=pd.read_csv(\"new_subj_to_use_face_asymmetry_SV.csv\")\n",
    "data_correct_scan2=pd.merge(all_face_asy2_no_dup, sai_scans2, on=['SubjID_exam'], how='inner')\n"
   ]
  },
  {
   "cell_type": "code",
   "execution_count": null,
   "metadata": {},
   "outputs": [],
   "source": [
    "cov2=pd.read_csv(\"Face_assemetry_simona.csv\")\n",
    "cov2['subj_number'] = cov2['subject_code_Sjoerd'].astype(str).str[0:9]\n",
    "cov2=cov2.rename(columns={\"age at DSM\": \"age_at_DSM\"})\n",
    "Segments_plus_cov2=pd.merge(data_correct_scan2, cov2, on=['subj_number'], how='inner')\n",
    "Segments_plus_cov2 = Segments_plus_cov2.loc[:,~Segments_plus_cov2.columns.duplicated()]"
   ]
  },
  {
   "cell_type": "code",
   "execution_count": null,
   "metadata": {},
   "outputs": [],
   "source": [
    "#Delete excess ICVs\n",
    "del Segments_plus_cov2[\"ICV_x\"]\n",
    "del Segments_plus_cov2[\"ICV_y\"]\n",
    "print(Segments_plus_cov1.shape)\n",
    "print(Segments_plus_cov2.shape)"
   ]
  },
  {
   "cell_type": "code",
   "execution_count": null,
   "metadata": {},
   "outputs": [],
   "source": [
    "data_Epi_dur_yrs=pd.concat([Segments_plus_cov1,Segments_plus_cov2], axis=0)"
   ]
  },
  {
   "cell_type": "code",
   "execution_count": null,
   "metadata": {},
   "outputs": [],
   "source": [
    "data_Epi_dur_yrs['MRI_scanner'] = data_Epi_dur_yrs.SubjID.str.extract(pat='(FSPGR_3D|FSPGR_BRAVO|1mm_Cor_MPRAGE)',expand=False)\n",
    "data_Epi_dur_yrs"
   ]
  },
  {
   "cell_type": "code",
   "execution_count": null,
   "metadata": {},
   "outputs": [],
   "source": [
    "#Adjust ROI measures for centres in Neurocombat \n",
    "neurocombat_Face_Asymmetry=pd.read_csv(\"neurocombat_Face_Asymmetry_output.csv\")\n",
    "data_Epi_dur_yrs=neurocombat_Face_Asymmetry"
   ]
  },
  {
   "cell_type": "code",
   "execution_count": null,
   "metadata": {},
   "outputs": [],
   "source": [
    "sex_mean = {'sex_mean':[2]}\n",
    "sex_mean = pd.DataFrame(sex_mean)"
   ]
  },
  {
   "cell_type": "code",
   "execution_count": null,
   "metadata": {},
   "outputs": [],
   "source": [
    "LRcort_sub_cort_list=['L_bankssts_thickavg','L_caudalanteriorcingulate_thickavg','L_caudalmiddlefrontal_thickavg','L_cuneus_thickavg','L_entorhinal_thickavg','L_fusiform_thickavg','L_inferiorparietal_thickavg','L_inferiortemporal_thickavg','L_isthmuscingulate_thickavg','L_lateraloccipital_thickavg','L_lateralorbitofrontal_thickavg','L_lingual_thickavg','L_medialorbitofrontal_thickavg','L_middletemporal_thickavg','L_parahippocampal_thickavg','L_paracentral_thickavg','L_parsopercularis_thickavg','L_parsorbitalis_thickavg','L_parstriangularis_thickavg','L_pericalcarine_thickavg','L_postcentral_thickavg','L_posteriorcingulate_thickavg','L_precentral_thickavg','L_precuneus_thickavg','L_rostralanteriorcingulate_thickavg','L_rostralmiddlefrontal_thickavg','L_superiorfrontal_thickavg','L_superiorparietal_thickavg','L_superiortemporal_thickavg','L_supramarginal_thickavg','L_frontalpole_thickavg','L_temporalpole_thickavg','L_transversetemporal_thickavg','L_insula_thickavg','R_bankssts_thickavg','R_caudalanteriorcingulate_thickavg','R_caudalmiddlefrontal_thickavg','R_cuneus_thickavg','R_entorhinal_thickavg','R_fusiform_thickavg','R_inferiorparietal_thickavg','R_inferiortemporal_thickavg','R_isthmuscingulate_thickavg','R_lateraloccipital_thickavg','R_lateralorbitofrontal_thickavg','R_lingual_thickavg','R_medialorbitofrontal_thickavg','R_middletemporal_thickavg','R_parahippocampal_thickavg','R_paracentral_thickavg','R_parsopercularis_thickavg','R_parsorbitalis_thickavg','R_parstriangularis_thickavg','R_pericalcarine_thickavg','R_postcentral_thickavg','R_posteriorcingulate_thickavg','R_precentral_thickavg','R_precuneus_thickavg','R_rostralanteriorcingulate_thickavg','R_rostralmiddlefrontal_thickavg','R_superiorfrontal_thickavg','R_superiorparietal_thickavg','R_superiortemporal_thickavg','R_supramarginal_thickavg','R_frontalpole_thickavg','R_temporalpole_thickavg','R_transversetemporal_thickavg','R_insula_thickavg','LThickness','RThickness','LSurfArea','RSurfArea', 'LLatVent','RLatVent','Lthal','Rthal','Lcaud','Rcaud','Lput','Rput','Lpal','Rpal','Lhippo','Rhippo','Lamyg','Ramyg','Laccumb','Raccumb','LHippocampal_tail','RHippocampal_tail','Lsubiculum','Rsubiculum','LCA1','RCA1','Lhippocampal-fissure','Rhippocampal-fissure','Lpresubiculum','Rpresubiculum','Lparasubiculum','Rparasubiculum','Lmolecular_layer_HP','Rmolecular_layer_HP','LGC-ML-DG','RGC-ML-DG','LCA3','RCA3','LCA4','RCA4','Lfimbria','Rfimbria','LHATA','RHATA','LWhole_hippocampus','RWhole_hippocampus']"
   ]
  },
  {
   "cell_type": "code",
   "execution_count": null,
   "metadata": {},
   "outputs": [],
   "source": [
    "Segments=Segments_plus_cov[['L_bankssts_thickavg','L_caudalanteriorcingulate_thickavg','L_caudalmiddlefrontal_thickavg','L_cuneus_thickavg','L_entorhinal_thickavg','L_fusiform_thickavg','L_inferiorparietal_thickavg','L_inferiortemporal_thickavg','L_isthmuscingulate_thickavg','L_lateraloccipital_thickavg','L_lateralorbitofrontal_thickavg','L_lingual_thickavg','L_medialorbitofrontal_thickavg','L_middletemporal_thickavg','L_parahippocampal_thickavg','L_paracentral_thickavg','L_parsopercularis_thickavg','L_parsorbitalis_thickavg','L_parstriangularis_thickavg','L_pericalcarine_thickavg','L_postcentral_thickavg','L_posteriorcingulate_thickavg','L_precentral_thickavg','L_precuneus_thickavg','L_rostralanteriorcingulate_thickavg','L_rostralmiddlefrontal_thickavg','L_superiorfrontal_thickavg','L_superiorparietal_thickavg','L_superiortemporal_thickavg','L_supramarginal_thickavg','L_frontalpole_thickavg','L_temporalpole_thickavg','L_transversetemporal_thickavg','L_insula_thickavg','R_bankssts_thickavg','R_caudalanteriorcingulate_thickavg','R_caudalmiddlefrontal_thickavg','R_cuneus_thickavg','R_entorhinal_thickavg','R_fusiform_thickavg','R_inferiorparietal_thickavg','R_inferiortemporal_thickavg','R_isthmuscingulate_thickavg','R_lateraloccipital_thickavg','R_lateralorbitofrontal_thickavg','R_lingual_thickavg','R_medialorbitofrontal_thickavg','R_middletemporal_thickavg','R_parahippocampal_thickavg','R_paracentral_thickavg','R_parsopercularis_thickavg','R_parsorbitalis_thickavg','R_parstriangularis_thickavg','R_pericalcarine_thickavg','R_postcentral_thickavg','R_posteriorcingulate_thickavg','R_precentral_thickavg','R_precuneus_thickavg','R_rostralanteriorcingulate_thickavg','R_rostralmiddlefrontal_thickavg','R_superiorfrontal_thickavg','R_superiorparietal_thickavg','R_superiortemporal_thickavg','R_supramarginal_thickavg','R_frontalpole_thickavg','R_temporalpole_thickavg','R_transversetemporal_thickavg','R_insula_thickavg','LThickness','RThickness','LSurfArea','RSurfArea', 'LLatVent','RLatVent','Lthal','Rthal','Lcaud','Rcaud','Lput','Rput','Lpal','Rpal','Lhippo','Rhippo','Lamyg','Ramyg','Laccumb','Raccumb','LHippocampal_tail','RHippocampal_tail','Lsubiculum','Rsubiculum','LCA1','RCA1','Lhippocampal-fissure','Rhippocampal-fissure','Lpresubiculum','Rpresubiculum','Lparasubiculum','Rparasubiculum','Lmolecular_layer_HP','Rmolecular_layer_HP','LGC-ML-DG','RGC-ML-DG','LCA3','RCA3','LCA4','RCA4','Lfimbria','Rfimbria','LHATA','RHATA','LWhole_hippocampus','RWhole_hippocampus']]"
   ]
  },
  {
   "cell_type": "code",
   "execution_count": null,
   "metadata": {},
   "outputs": [],
   "source": [
    "#Regress ICV, age & sex from ROIs\n",
    "\n",
    "residuals1=pd.DataFrame()\n",
    "count=0\n",
    "Age=data_Epi_dur_yrs.age_at_DSM\n",
    "Sex=data_Epi_dur_yrs.sexm1f2\n",
    "All_ICV=data_Epi_dur_yrs.ICV\n",
    "cov=pd.concat([All_ICV,Age,Sex], axis=1)\n",
    "\n",
    "mean_data=pd.concat([All_ICV, Age],axis=1).apply(np.mean, axis=0)\n",
    "mean_data=mean_data.to_frame().T\n",
    "mean_data=pd.concat([mean_data, sex_mean],axis=1)\n",
    "mean_data = np.matrix(mean_data)\n",
    "\n",
    "print(mean_data.shape)\n",
    "\n",
    "while count<np.shape(LRcort_sub_cort_list)[0]:\n",
    "    X_train=cov\n",
    "\n",
    "    roi=LRcort_sub_cort_list[count]\n",
    "    y_train=data_Epi_dur_yrs[roi]\n",
    "    linreg = LinearRegression()\n",
    "    fit1=linreg.fit(X_train, y_train)\n",
    "    correct_factor = fit1.predict(mean_data)   \n",
    "    LLat_hat_segment = fit1.predict(cov)   \n",
    "    Controls_segment=Segments[roi]\n",
    "    residuals=y_train-LLat_hat_segment + correct_factor \n",
    "    \n",
    "\n",
    "    residuals1=pd.concat([residuals1,residuals], axis=1)\n",
    "    count=count+1\n",
    "\n",
    "data_Epi_info=data_Epi_dur_yrs[[\"SubjID\",\"category\",\"sidemrilesion1l2r\",\"foccryptvscontr\",\"focsymptvscontr\",\"Epilepsy_duration_yrs\",\"LN_SAI_facial_asymmetry\"]]\n",
    "\n",
    "\n",
    "residuals_cov=pd.concat([data_Epi_info,residuals1] , axis =1)\n",
    "\n"
   ]
  },
  {
   "cell_type": "code",
   "execution_count": null,
   "metadata": {},
   "outputs": [],
   "source": [
    "cortical_list=['bankssts_thickavg','caudalanteriorcingulate_thickavg','caudalmiddlefrontal_thickavg','cuneus_thickavg','entorhinal_thickavg','fusiform_thickavg','inferiorparietal_thickavg','inferiortemporal_thickavg','isthmuscingulate_thickavg','lateraloccipital_thickavg','lateralorbitofrontal_thickavg','lingual_thickavg','medialorbitofrontal_thickavg','middletemporal_thickavg','parahippocampal_thickavg','paracentral_thickavg','parsopercularis_thickavg','parsorbitalis_thickavg','parstriangularis_thickavg','pericalcarine_thickavg','postcentral_thickavg','posteriorcingulate_thickavg','precentral_thickavg','precuneus_thickavg','rostralanteriorcingulate_thickavg','rostralmiddlefrontal_thickavg','superiorfrontal_thickavg','superiorparietal_thickavg','superiortemporal_thickavg','supramarginal_thickavg','frontalpole_thickavg','temporalpole_thickavg','transversetemporal_thickavg','insula_thickavg']\n",
    "subcortical_list=['Thickness','SurfArea', 'LatVent' ,'thal' ,'caud','put','pal','hippo','amyg','accumb']\n",
    "subfeilds_list=['Hippocampal_tail','subiculum','CA1','hippocampal-fissure','presubiculum','parasubiculum','molecular_layer_HP','GC-ML-DG','CA3','CA4','fimbria','HATA','Whole_hippocampus']"
   ]
  },
  {
   "cell_type": "code",
   "execution_count": null,
   "metadata": {},
   "outputs": [],
   "source": [
    "#Create functions that will make new features for quantifying the assymetry of regional atrophy in the brain\n",
    "def AssyIdx_cortical(roi_list,dataset):\n",
    "    computed_AI=pd.DataFrame()\n",
    "    num_seg=0\n",
    "    while num_seg<np.shape(roi_list)[0]:\n",
    "        left_roi=\"L_\" + roi_list[num_seg]\n",
    "        seg_L=dataset[left_roi]\n",
    "        right_roi=\"R_\" + roi_list[num_seg]\n",
    "        seg_R=dataset[right_roi]\n",
    "        AI=(seg_L-seg_R)/((seg_L+seg_R)/2)\n",
    "        computed_AI=pd.concat([computed_AI,AI], axis=1)\n",
    "\n",
    "        num_seg=num_seg+1\n",
    "\n",
    "    return computed_AI"
   ]
  },
  {
   "cell_type": "code",
   "execution_count": null,
   "metadata": {},
   "outputs": [],
   "source": [
    "cortical_AI=AssyIdx_cortical(roi_list=cortical_list,dataset=Segments_plus_cov)"
   ]
  },
  {
   "cell_type": "code",
   "execution_count": null,
   "metadata": {},
   "outputs": [],
   "source": [
    "def AssyIdx_subcortical(roi_list,dataset):\n",
    "    computed_AI=pd.DataFrame()\n",
    "    num_seg=0\n",
    "    while num_seg<np.shape(roi_list)[0]:\n",
    "        left_roi=\"L\" + roi_list[num_seg]\n",
    "        seg_L=dataset[left_roi]\n",
    "        right_roi=\"R\" + roi_list[num_seg]\n",
    "        seg_R=dataset[right_roi]\n",
    "        AI=(seg_L-seg_R)/((seg_L+seg_R)/2)\n",
    "        computed_AI=pd.concat([computed_AI,AI], axis=1)\n",
    "\n",
    "        num_seg=num_seg+1\n",
    "\n",
    "    return computed_AI"
   ]
  },
  {
   "cell_type": "code",
   "execution_count": null,
   "metadata": {},
   "outputs": [],
   "source": [
    "subcortical_AI=AssyIdx_subcortical(roi_list=subcortical_list,dataset=Segments_plus_cov)"
   ]
  },
  {
   "cell_type": "code",
   "execution_count": null,
   "metadata": {},
   "outputs": [],
   "source": [
    "cortical_AI.columns = ['bankssts_thickavg','caudalanteriorcingulate_thickavg','caudalmiddlefrontal_thickavg','cuneus_thickavg','entorhinal_thickavg','fusiform_thickavg','inferiorparietal_thickavg','inferiortemporal_thickavg','isthmuscingulate_thickavg','lateraloccipital_thickavg','lateralorbitofrontal_thickavg','lingual_thickavg','medialorbitofrontal_thickavg','middletemporal_thickavg','parahippocampal_thickavg','paracentral_thickavg','parsopercularis_thickavg','parsorbitalis_thickavg','parstriangularis_thickavg','pericalcarine_thickavg','postcentral_thickavg','posteriorcingulate_thickavg','precentral_thickavg','precuneus_thickavg','rostralanteriorcingulate_thickavg','rostralmiddlefrontal_thickavg','superiorfrontal_thickavg','superiorparietal_thickavg','superiortemporal_thickavg','supramarginal_thickavg','frontalpole_thickavg','temporalpole_thickavg','transversetemporal_thickavg','insula_thickavg']\n",
    "cortical_AI"
   ]
  },
  {
   "cell_type": "code",
   "execution_count": null,
   "metadata": {},
   "outputs": [],
   "source": [
    "subcortical_AI.columns =['Thickness','SurfArea', 'LatVent' ,'thal' ,'caud','put','pal','hippo','amyg','accumb']\n",
    "subcortical_AI"
   ]
  },
  {
   "cell_type": "code",
   "execution_count": null,
   "metadata": {},
   "outputs": [],
   "source": [
    "def AssyIdx_subfeilds(roi_list,dataset):\n",
    "    computed_AI=pd.DataFrame()\n",
    "    num_seg=0\n",
    "    while num_seg<np.shape(roi_list)[0]:\n",
    "        left_roi=\"L\" + roi_list[num_seg]\n",
    "        seg_L=dataset[left_roi]\n",
    "        right_roi=\"R\" + roi_list[num_seg]\n",
    "        seg_R=dataset[right_roi]\n",
    "        AI=(seg_L-seg_R)/((seg_L+seg_R)/2)\n",
    "        computed_AI=pd.concat([computed_AI,AI], axis=1)\n",
    "\n",
    "        num_seg=num_seg+1\n",
    "\n",
    "    return computed_AI"
   ]
  },
  {
   "cell_type": "code",
   "execution_count": null,
   "metadata": {},
   "outputs": [],
   "source": [
    "subfeilds_AI=AssyIdx_subfeilds(roi_list=subfeilds_list,dataset=Segments_plus_cov)"
   ]
  },
  {
   "cell_type": "code",
   "execution_count": null,
   "metadata": {},
   "outputs": [],
   "source": [
    "subfeilds_AI.columns=['Hippocampal_tail','subiculum','CA1','hippocampal-fissure','presubiculum','parasubiculum','molecular_layer_HP','GC-ML-DG','CA3','CA4','fimbria','HATA','Whole_hippocampus']"
   ]
  },
  {
   "cell_type": "code",
   "execution_count": null,
   "metadata": {},
   "outputs": [],
   "source": [
    "new_features=pd.concat([cortical_AI,subcortical_AI,subfeilds_AI], axis=1)\n",
    "new_features"
   ]
  },
  {
   "cell_type": "code",
   "execution_count": null,
   "metadata": {},
   "outputs": [],
   "source": [
    "data_Epi_dur_yrs=pd.concat([data_Epi_info,new_features],axis=1)\n",
    "data_Epi_dur_yrs.shape"
   ]
  },
  {
   "cell_type": "code",
   "execution_count": null,
   "metadata": {},
   "outputs": [],
   "source": [
    "#Define separate dfs: if patients had a lesion detected in the brain, was categorised as IGE and was not IGE\n",
    "data_leasions = data_Epi_dur_yrs[data_Epi_dur_yrs.sidemrilesion1l2r != 0]\n",
    "data_IGE = data_Epi_dur_yrs[data_Epi_dur_yrs.category == 3]\n",
    "data_no_IGE = data_Epi_dur_yrs[data_Epi_dur_yrs.category != 3]"
   ]
  },
  {
   "cell_type": "code",
   "execution_count": null,
   "metadata": {},
   "outputs": [],
   "source": [
    "type1=pd.DataFrame(dict(Cat_type=[1]))\n",
    "type2=pd.DataFrame(dict(Cat_type=[2]))\n",
    "type3=pd.DataFrame(dict(Cat_type=[3]))\n",
    "\n",
    "type1_data=data_Epi_dur_yrs[data_Epi_dur_yrs['category'].isin(type1['Cat_type'])]\n",
    "type2_data=data_Epi_dur_yrs[data_Epi_dur_yrs['category'].isin(type2['Cat_type'])]\n",
    "type3_data=data_Epi_dur_yrs[data_Epi_dur_yrs['category'].isin(type3['Cat_type'])]\n",
    "print(type1_data.shape)\n",
    "print(type2_data.shape)\n",
    "print(type3_data.shape)"
   ]
  },
  {
   "cell_type": "code",
   "execution_count": null,
   "metadata": {},
   "outputs": [],
   "source": [
    "def corrscatterplot(segment_to_plot,seg_string,y_segment,x_cor,y_lable):\n",
    "    r, p = sp.stats.pearsonr(x=y_segment, y=segment_to_plot)\n",
    "    print(r)\n",
    "    fig, ax = plt.subplots()\n",
    "    plt.scatter(type1_data.LN_SAI_facial_asymmetry,type1_data[seg_string],color='red')\n",
    "    plt.scatter(type2_data.LN_SAI_facial_asymmetry,type2_data[seg_string],color='blue')\n",
    "    plt.scatter(type3_data.LN_SAI_facial_asymmetry,type3_data[seg_string],color='green')\n",
    "\n",
    "    \n",
    "    plt.ylabel(seg_string)\n",
    "    plt.xlabel(y_lable)\n",
    "    ax.text(5.20,x_cor, 'r = {:.2f}; p = {:.4f}'.format(r,p), fontsize=12)\n",
    "    plt.show()\n",
    "    return r"
   ]
  },
  {
   "cell_type": "code",
   "execution_count": null,
   "metadata": {},
   "outputs": [],
   "source": [
    "Thick_plot=corrscatterplot(segment_to_plot=data_Epi_dur_yrs.Thickness,seg_string='Thickness',y_segment=data_Epi_dur_yrs.LN_SAI_facial_asymmetry,x_cor=0.06,y_lable='LN_SAI_facial_asymmetry')"
   ]
  },
  {
   "cell_type": "code",
   "execution_count": null,
   "metadata": {},
   "outputs": [],
   "source": [
    "SurfArea_plot=corrscatterplot(segment_to_plot=data_Epi_dur_yrs.SurfArea,seg_string='SurfArea',y_segment=data_Epi_dur_yrs.LN_SAI_facial_asymmetry,x_cor=0.17,y_lable='LN_SAI_facial_asymmetry')"
   ]
  },
  {
   "cell_type": "code",
   "execution_count": null,
   "metadata": {},
   "outputs": [],
   "source": [
    "def corrscatterplot(segment_to_plot,seg_string,y_segment,x_cor,y_lable):\n",
    "    r, p = sp.stats.pearsonr(x=y_segment, y=segment_to_plot)\n",
    "    print(r)\n",
    "    fig, ax = plt.subplots()\n",
    "    plt.scatter(type1_data.Epilepsy_duration_yrs,type1_data[seg_string],color='red')\n",
    "    plt.scatter(type2_data.Epilepsy_duration_yrs,type2_data[seg_string],color='blue')\n",
    "    plt.scatter(type3_data.Epilepsy_duration_yrs,type3_data[seg_string],color='green')\n",
    "   \n",
    "    \n",
    "    plt.ylabel(seg_string)\n",
    "    plt.xlabel(y_lable)\n",
    "    ax.text(40,x_cor, 'r = {:.2f}; p = {:.4f}'.format(r,p), fontsize=12)\n",
    "    plt.show()\n",
    "    return r"
   ]
  },
  {
   "cell_type": "markdown",
   "metadata": {},
   "source": [
    "### 2) Building a LASSO model for feature selection <a name='LASSO_Model' />"
   ]
  },
  {
   "cell_type": "code",
   "execution_count": null,
   "metadata": {},
   "outputs": [],
   "source": [
    "#category\n",
    "def crossvalidatedata(lower_lim, upper_lim,data_type,end_feature):\n",
    "    trainx_type=data_type.loc[:,\"bankssts_thickavg\":end_feature]\n",
    "    trainy_type=data_type.LN_SAI_facial_asymmetry\n",
    "\n",
    "    #print(trainx_type.columns.values)\n",
    "    \n",
    "    kf = KFold(n_splits=10)\n",
    "    my_kf_cv = kf.split(trainx_type)\n",
    "    plt.rcParams.update({'font.size': 20})\n",
    "    alphas = np.logspace(lower_lim, upper_lim, num = 50, base = 2)\n",
    "\n",
    "    e_alphas_tr = list()\n",
    "    e_alphas_tt = list()\n",
    "    c_alphas_tt = list()\n",
    "    \n",
    "\n",
    "    for alpha in alphas:\n",
    "        lasso = Lasso(alpha=alpha, normalize=True)\n",
    "        err_tt = list()\n",
    "        err_tr = list()\n",
    "        cor_tt = list()\n",
    "\n",
    "        for tr_idx, tt_idx in kf.split(trainx_type):\n",
    "\n",
    "            X_tr ,X_tt = trainx_type.iloc[tr_idx,:], trainx_type.iloc[tt_idx,:]\n",
    "            y_tr, y_tt = trainy_type.values[tr_idx], trainy_type.values[tt_idx]\n",
    "            \n",
    "\n",
    "            lasso.fit(X_tr, y_tr)\n",
    "            y_hat_tt = lasso.predict(X_tt)\n",
    "            y_hat_tr = lasso.predict(X_tr)\n",
    "\n",
    "            err_tr.append(np.average((y_hat_tr - y_tr)**2))\n",
    "            err_tt.append(np.average((y_hat_tt - y_tt)**2))\n",
    "\n",
    "            cor_tt.append(myCorrelation(y_hat_tt, y_tt))\n",
    "            #print(np.corrcoef(y_hat_tt , y_tt)[0,1])\n",
    "            \n",
    "        e_alphas_tt.append(np.average(err_tt))\n",
    "        e_alphas_tr.append(np.average(err_tr))\n",
    "        c_alphas_tt.append(np.average(cor_tt))\n",
    "        np.nan_to_num(c_alphas_tt)\n",
    "\n",
    "\n",
    "\n",
    "    opt_alpha_idx= e_alphas_tt.index(min(e_alphas_tt))\n",
    "    opt_alpha = alphas[opt_alpha_idx]\n",
    "\n",
    "    \n",
    "    myresult={}\n",
    "    myresult[\"opt_alpha\"] = opt_alpha\n",
    "    myresult[\"MSE\"] = e_alphas_tt[opt_alpha_idx]\n",
    "    myresult[\"COR\"] = c_alphas_tt[opt_alpha_idx]\n",
    "    return myresult"
   ]
  },
  {
   "cell_type": "code",
   "execution_count": null,
   "metadata": {},
   "outputs": [],
   "source": [
    "def Main_model(data_set, end_feature,brain_segments_names):\n",
    "    count_cut_off=50\n",
    "    correlation_mat = np.zeros((100, 1))\n",
    "    mse_mat= np.zeros((100, 1))\n",
    "    coeffs_array = pd.DataFrame()\n",
    "    features_above_cut_off= pd.DataFrame()\n",
    "    count_mat= pd.DataFrame()\n",
    "    split_count=0\n",
    "    rowidx=0\n",
    "    colidx=0\n",
    "    end_feature=end_feature\n",
    "    counts_mat=pd.DataFrame()\n",
    "    Avg_good_COR_mat=list()\n",
    "    Avg_good_MSE_mat=list()\n",
    "    count_element=0\n",
    "    while split_count<100:\n",
    "        Main_train, Main_test = train_test_split(data_set, test_size=0.2)\n",
    "        Main_train=Main_train\n",
    "        opt_alpha_cross1=crossvalidatedata(lower_lim=-16, upper_lim=-4,data_type=Main_train,end_feature=end_feature)\n",
    "\n",
    "        myLasso = Lasso(alpha=opt_alpha_cross1[\"opt_alpha\"], normalize=True)\n",
    "        #main-train_x and main_train_y\n",
    "        Main_train_x=Main_train.loc[:,\"bankssts_thickavg\":end_feature]\n",
    "        Main_train_y=Main_train.LN_SAI_facial_asymmetry\n",
    "        model1 = myLasso.fit(Main_train_x, Main_train_y)\n",
    "        #extract the .coeff_ and make a matrix\n",
    "        coeffs = model1.coef_  \n",
    "        coeffs_series=pd.Series(coeffs)\n",
    "        coeffs_array=pd.concat([coeffs_array,coeffs_series],axis=1)\n",
    "\n",
    "        #make a prediction for Main_test\n",
    "        #extract Main_test_x\n",
    "        Main_test_x=Main_test.loc[:,\"bankssts_thickavg\":end_feature]\n",
    "        Main_test_y=Main_test.LN_SAI_facial_asymmetry\n",
    "        y_hat_test = model1.predict(Main_test_x)\n",
    "\n",
    "        #compute performance (cor, mse)\n",
    "        #correlation=myCorrelation(yhat, Main_test_y)\n",
    "        correlation=myCorrelation(y_hat_test,Main_test_y)\n",
    "        mse=np.average((y_hat_test - Main_test_y)**2)\n",
    "        #print(mse)\n",
    "        correlation_mat[rowidx, colidx]=correlation\n",
    "        mse_mat[rowidx, colidx]=mse\n",
    "\n",
    "        rowidx=rowidx+1\n",
    "        split_count=split_count+1\n",
    "    \n",
    "    coeffs_array_abs= (abs(coeffs_array))\n",
    "    features_selected_to_ones=coeffs_array_abs.mask(coeffs_array_abs > 0, 1)\n",
    "    counts=np.count_nonzero(features_selected_to_ones, axis=1)\n",
    "    countsDF=pd.DataFrame(counts)\n",
    "    countsDF.columns=[\"Count_values\"]\n",
    "    Segments_counts=pd.concat([brain_segments_names,countsDF],axis=1)\n",
    "    Segments_counts=Segments_counts.sort_values(by=['Count_values'])\n",
    "    \n",
    "    fig, ax = plt.subplots(figsize=(10,23))\n",
    "    y=Segments_counts.Count_values\n",
    "    width = 0.4\n",
    "    x=Segments_counts.segments\n",
    "    ind = np.arange(len(y))\n",
    "   \n",
    "    ax.barh(ind, y, width, align=\"edge\")\n",
    "    ax.set_yticks(ind+width/2)\n",
    "    ax.set_yticklabels(x, minor=False ,fontsize=12)\n",
    "    #plt.title('Frequency of features selected', fontsize=14)\n",
    "    plt.xlabel('Selection frequency', fontsize=12)\n",
    "    plt.ylabel('Features', fontsize=12)\n",
    "    plt.show()\n",
    "\n",
    "    \n",
    "    plt.rcParams[\"figure.figsize\"] = (5,5)\n",
    "    plt.rcParams.update({'font.size': 12})\n",
    "    plt.hist(correlation_mat, bins='auto')\n",
    "    #plt.title('Correlation distribution', fontsize=14)\n",
    "    plt.xlabel('Correlation', fontsize=12)\n",
    "    plt.ylabel('Count', fontsize=12)\n",
    "    plt.show()\n",
    "\n",
    "    plt.rcParams.update({'font.size': 12})\n",
    "    plt.hist(mse_mat, bins='fd')\n",
    "    plt.title('MSE distribution', fontsize=14)\n",
    "    plt.xlabel('MSE', fontsize=12)\n",
    "    plt.ylabel('Count', fontsize=12)\n",
    "    plt.show()\n",
    "\n",
    "    brain_segments1 = pd.DataFrame(brain_segments_names)\n",
    "\n",
    "    counts1 = pd.Series(counts)\n",
    "    while count_element<brain_segments1.shape[0]:\n",
    "        if counts[count_element]>count_cut_off:\n",
    "            good_features=brain_segments1.iloc[count_element:count_element+1,:]\n",
    "            #good_features.append(features_above_cut_off)\n",
    "            features_above_cut_off = pd.concat([features_above_cut_off,good_features],axis=0)\n",
    "\n",
    "            count_number=counts1[count_element]\n",
    "\n",
    "            count_number1=pd.Series(count_number)\n",
    "            #np.reshape(count_number1, (1, 1))\n",
    "\n",
    "            count_mat=pd.concat([count_mat,count_number1],axis=1)\n",
    "            count_element=count_element+1\n",
    "        else :\n",
    "            count_element=count_element+1\n",
    "    count_mat=count_mat.T\n",
    "    #print(count_mat)\n",
    "    features_above_cut_off=features_above_cut_off.reset_index(drop=True)\n",
    "    count_mat=count_mat.reset_index(drop=True)\n",
    "    print(features_above_cut_off)\n",
    "    features_count_mat=pd.concat([features_above_cut_off,count_mat],axis=1)\n",
    "    print(features_count_mat)\n",
    "    reg_select_result={}\n",
    "    reg_select_result[\"Reg_counts\"] = count_mat\n",
    "    reg_select_result[\"Avg_COR\"] = correlation_mat.mean()\n",
    "    reg_select_result[\"COR_mat\"] = correlation_mat\n",
    "    reg_select_result[\"Avg_MSE\"] = mse_mat.mean()\n",
    "    reg_select_result[\"MSE_mat\"] = mse_mat\n",
    "    reg_select_result[\"Segments_counts\"] = Segments_counts\n",
    "    \n",
    "    return reg_select_result"
   ]
  },
  {
   "cell_type": "code",
   "execution_count": null,
   "metadata": {},
   "outputs": [],
   "source": [
    "#Update features names to be shorter\n",
    "brain_segs_diag={'segments':['Bankssts','Caudalanteriorcingulate','Caudalmiddlefrontal','Cuneus','Entorhinal','Fusiform','Inferiorparietal','Inferiortemporal','Isthmuscingulate','Lateraloccipital','Lateralorbitofrontal','Lingual','Medialorbitofrontal','Middletemporal','Parahippocampal','Paracentral','Parsopercularis','Parsorbitalis','Parstriangularis','Pericalcarine','Postcentral','Posteriorcingulate','Precentral','Precuneus','Rostralanteriorcingulate','Rostralmiddlefrontal','Superiorfrontal','Superiorparietal','Superiortemporal','Supramarginal','Frontalpole','Temporalpole','Transversetemporal','Insula','Thickness','SurfArea','LatVent' ,'Thal' ,'Caud','Put','Pal','Hippo','Amyg','Accumb','Hippocampal_tail','subiculum','CA1','Hippocampal-fissure','Presubiculum','Parasubiculum','Molecular_layer_HP','GC-ML-DG','CA3','CA4','Fimbria','HATA','Whole_hippocampus','sidemrilesion1l2r','category']}\n",
    "brain_segs_diag=pd.DataFrame(brain_segs_diag)"
   ]
  },
  {
   "cell_type": "code",
   "execution_count": null,
   "metadata": {},
   "outputs": [],
   "source": [
    "#Custom correlation function that sets correlation to zero if std deviations are zero. 'tol' used as a hack\n",
    "def myCorrelation(a, b, tol=0.00001):\n",
    "    \n",
    "    result = 0.0\n",
    "    if np.std(a) > tol and np.std(b) > tol:\n",
    "        result = np.corrcoef(a,b)[0,1]    \n",
    "    return result"
   ]
  },
  {
   "cell_type": "markdown",
   "metadata": {},
   "source": [
    "### 3) Model implementation <a name='Model_Imple' />"
   ]
  },
  {
   "cell_type": "code",
   "execution_count": null,
   "metadata": {},
   "outputs": [],
   "source": [
    "all_data_analysis=Main_model(data_set=data_Epi_dur_yrs,end_feature=\"category\",brain_segments_names=brain_segs_diag)"
   ]
  },
  {
   "cell_type": "code",
   "execution_count": null,
   "metadata": {},
   "outputs": [],
   "source": [
    "brain_reg_only_analysis=Main_model(data_set=data_Epi_dur_yrs,end_feature=\"Whole_hippocampus\",brain_segments_names=brain_segs_diag)"
   ]
  },
  {
   "cell_type": "code",
   "execution_count": null,
   "metadata": {},
   "outputs": [],
   "source": [
    "leasions_data_analysis=Main_model(data_set=data_leasions,end_feature=\"category\",brain_segments_names=brain_segs_diag)"
   ]
  },
  {
   "cell_type": "code",
   "execution_count": null,
   "metadata": {},
   "outputs": [],
   "source": [
    "data_no_IGE_analysis=Main_model(data_set=data_no_IGE,end_feature=\"category\",brain_segments_names=brain_segs_diag)"
   ]
  },
  {
   "cell_type": "code",
   "execution_count": null,
   "metadata": {},
   "outputs": [],
   "source": [
    "data_IGE_analysis=Main_model(data_set=data_IGE,end_feature=\"category\",brain_segments_names=brain_segs_diag)"
   ]
  }
 ],
 "metadata": {
  "kernelspec": {
   "display_name": "Python 3 (ipykernel)",
   "language": "python",
   "name": "python3"
  },
  "language_info": {
   "codemirror_mode": {
    "name": "ipython",
    "version": 3
   },
   "file_extension": ".py",
   "mimetype": "text/x-python",
   "name": "python",
   "nbconvert_exporter": "python",
   "pygments_lexer": "ipython3",
   "version": "3.9.5"
  }
 },
 "nbformat": 4,
 "nbformat_minor": 2
}
