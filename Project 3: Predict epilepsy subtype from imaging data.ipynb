{
 "cells": [
  {
   "cell_type": "markdown",
   "id": "86bc0d09",
   "metadata": {},
   "source": [
    "# Predictive modelling"
   ]
  },
  {
   "cell_type": "markdown",
   "id": "a8325649",
   "metadata": {},
   "source": [
    "Here we first use support vector machine for predicting the type of epilepsy syndrome (SDx) from T1W MRI and DTI data, then compare the performance with other ML methods\n",
    "\n"
   ]
  },
  {
   "cell_type": "code",
   "execution_count": null,
   "id": "b583ba12",
   "metadata": {},
   "outputs": [],
   "source": [
    "import numpy as np\n",
    "import pandas as pd\n",
    "from sklearn.svm import SVC\n",
    "from lazypredict.Supervised import LazyClassifier\n",
    "\n",
    "\n",
    "from sklearn.model_selection import train_test_split\n",
    "from sklearn.preprocessing import normalize\n",
    "\n",
    "\n",
    "import seaborn as sns\n",
    "%matplotlib inline\n",
    "from matplotlib import pyplot as plt\n",
    "from matplotlib.pyplot import figure\n",
    "\n",
    "from sklearn.model_selection import KFold\n",
    "from sklearn.model_selection import GridSearchCV\n",
    "\n",
    "\n",
    "from sklearn.metrics import roc_curve,roc_auc_score, accuracy_score\n",
    "from sklearn.preprocessing import OneHotEncoder\n",
    "from sklearn.metrics import classification_report, confusion_matrix\n"
   ]
  },
  {
   "cell_type": "code",
   "execution_count": null,
   "id": "b5019360",
   "metadata": {},
   "outputs": [],
   "source": [
    "img_dat_nc=pd.read_csv(\"/Users/seymour/Desktop/SuStaIn_15_June/Andre_sent_21_July/img_dat_nc.csv\")\n",
    "img_dat_nc[\"SubjID\"] = img_dat_nc[\"Site\"] + img_dat_nc[\"SubjID\"].astype(str)+ img_dat_nc[\"SDx_dti\"].astype(str)\n",
    "img_dat_nc[\"SubjID\"] = img_dat_nc[\"SubjID\"].str[:-2]"
   ]
  },
  {
   "cell_type": "code",
   "execution_count": null,
   "id": "16978821",
   "metadata": {},
   "outputs": [],
   "source": [
    "t1_feats=['LLatVent','RLatVent','Lthal','Rthal','Lcaud','Rcaud','Lput','Rput','Lpal','Rpal','Lhippo','Rhippo','Lamyg','Ramyg','Laccumb','Raccumb','L_frontalL_volume','L_parietalL_volume','L_temporalL_volume','L_occipitalL_volume','L_cingulateC_volume','R_frontalL_volume','R_parietalL_volume','R_temporalL_volume','R_occipitalL_volume','R_cingulateC_volume']\n",
    "t1_fa_feats_covs=['CC_FA','CST.L_FA','CST.R_FA','EC.L_FA','EC.R_FA','FX.ST.L_FA','FX.ST.R_FA','PTR.L_FA','PTR.R_FA','SLF.L_FA','SLF.R_FA','SS.L_FA','SS.R_FA','UNC.L_FA','UNC.R_FA','IC.L_FA','IC.R_FA','CR.L_FA','CR.R_FA','FO.L_FA','FO.R_FA','CG.L_FA','CG.R_FA','LLatVent','RLatVent','Lthal','Rthal','Lcaud','Rcaud','Lput','Rput','Lpal','Rpal','Lhippo','Rhippo','Lamyg','Ramyg','Laccumb','Raccumb','L_frontalL_volume','L_parietalL_volume','L_temporalL_volume','L_occipitalL_volume','L_cingulateC_volume','R_frontalL_volume','R_parietalL_volume','R_temporalL_volume','R_occipitalL_volume','R_cingulateC_volume','CC_MD','CST.L_MD','CST.R_MD','EC.L_MD','EC.R_MD','FX.ST.L_MD','FX.ST.R_MD','PTR.L_MD','PTR.R_MD','SLF.L_MD','SLF.R_MD','SS.L_MD','SS.R_MD','UNC.L_MD','UNC.R_MD','IC.L_MD','IC.R_MD','CR.L_MD','CR.R_MD','FO.L_MD','FO.R_MD','CG.L_MD','CG.R_MD','RESPONSE','SDx_dti']\n",
    "t1_fa_md_feats=['CC_FA','CST.L_FA','CST.R_FA','EC.L_FA','EC.R_FA','FX.ST.L_FA','FX.ST.R_FA','PTR.L_FA','PTR.R_FA','SLF.L_FA','SLF.R_FA','SS.L_FA','SS.R_FA','UNC.L_FA','UNC.R_FA','IC.L_FA','IC.R_FA','CR.L_FA','CR.R_FA','FO.L_FA','FO.R_FA','CG.L_FA','CG.R_FA','LLatVent','RLatVent','Lthal','Rthal','Lcaud','Rcaud','Lput','Rput','Lpal','Rpal','Lhippo','Rhippo','Lamyg','Ramyg','Laccumb','Raccumb','L_frontalL_volume','L_parietalL_volume','L_temporalL_volume','L_occipitalL_volume','L_cingulateC_volume','R_frontalL_volume','R_parietalL_volume','R_temporalL_volume','R_occipitalL_volume','R_cingulateC_volume','CC_MD','CST.L_MD','CST.R_MD','EC.L_MD','EC.R_MD','FX.ST.L_MD','FX.ST.R_MD','PTR.L_MD','PTR.R_MD','SLF.L_MD','SLF.R_MD','SS.L_MD','SS.R_MD','UNC.L_MD','UNC.R_MD','IC.L_MD','IC.R_MD','CR.L_MD','CR.R_MD','FO.L_MD','FO.R_MD','CG.L_MD','CG.R_MD']"
   ]
  },
  {
   "cell_type": "code",
   "execution_count": null,
   "id": "c044fda6",
   "metadata": {},
   "outputs": [],
   "source": [
    "img_dat_nc1=img_dat_nc[t1_fa_feats_covs]\n",
    "img_dat_nc1[\"SDx_dti\"] = img_dat_nc1[\"SDx_dti\"].map({3: 0, 4: 1})\n",
    "img_dat_nc1=img_dat_nc1.dropna()\n",
    "print(img_dat_nc.shape)\n",
    "print(img_dat_nc1.shape)"
   ]
  },
  {
   "cell_type": "code",
   "execution_count": null,
   "id": "c5b13875",
   "metadata": {},
   "outputs": [],
   "source": [
    "X=img_dat_nc1[t1_feats]\n",
    "X_normalized=normalize(X,axis=0)"
   ]
  },
  {
   "cell_type": "code",
   "execution_count": null,
   "id": "9e318fae",
   "metadata": {},
   "outputs": [],
   "source": [
    "X_train, X_test, y_train, y_test = train_test_split(X_normalized, img_dat_nc1.SDx_dti, test_size=0.3,random_state=109) # 70% training and 30% test"
   ]
  },
  {
   "cell_type": "code",
   "execution_count": null,
   "id": "ca303a4e",
   "metadata": {},
   "outputs": [],
   "source": []
  },
  {
   "cell_type": "code",
   "execution_count": null,
   "id": "e4acbf9d",
   "metadata": {},
   "outputs": [],
   "source": [
    "y_train.shape"
   ]
  },
  {
   "cell_type": "code",
   "execution_count": null,
   "id": "452379da",
   "metadata": {},
   "outputs": [],
   "source": [
    "param_grid = {'C':[1,10,100,1000],'gamma':[0.1,0.001,0.0001], 'kernel':['linear','rbf','sigmoid']}\n",
    "# Create the model\n",
    "grid=GridSearchCV(SVC(),param_grid, n_jobs=-1)\n",
    "grid.fit(X_train,y_train)"
   ]
  },
  {
   "cell_type": "code",
   "execution_count": null,
   "id": "c1f187dc",
   "metadata": {},
   "outputs": [],
   "source": [
    "# Predict the test data\n",
    "predicted = grid.predict(X_test)\n",
    "roc_auc = roc_auc_score(y_test, predicted)\n",
    "print(roc_auc)"
   ]
  },
  {
   "cell_type": "code",
   "execution_count": null,
   "id": "6c340922",
   "metadata": {},
   "outputs": [],
   "source": [
    "print(\"Accuracy:\",accuracy_score(y_test, predicted))"
   ]
  },
  {
   "cell_type": "code",
   "execution_count": null,
   "id": "3aeb9ccb",
   "metadata": {},
   "outputs": [],
   "source": [
    "# Defines and builds the lazyclassifier\n",
    "clf = LazyClassifier(verbose=0,ignore_warnings=True, custom_metric=None)\n",
    "models_train,predictions_train = clf.fit(X_train, X_train, y_train, y_train)\n",
    "models_test,predictions_test = clf.fit(X_train, X_test, y_train, y_test)\n",
    "\n",
    "# Prints the model performance\n",
    "models_train\n",
    "     "
   ]
  },
  {
   "cell_type": "code",
   "execution_count": null,
   "id": "16baaaf5",
   "metadata": {},
   "outputs": [],
   "source": [
    "plt.figure(figsize=(10, 5))\n",
    "sns.set_theme(style=\"whitegrid\")\n",
    "ax = sns.barplot(x=models_train.index, y=\"Accuracy\", data=models_train)\n",
    "plt.xticks(rotation=90)\n",
    "     "
   ]
  },
  {
   "cell_type": "code",
   "execution_count": null,
   "id": "4df36f26",
   "metadata": {},
   "outputs": [],
   "source": [
    "img_dat_nc1[\"SDx_dti\"].value_counts()"
   ]
  },
  {
   "cell_type": "code",
   "execution_count": null,
   "id": "57caa8a1",
   "metadata": {},
   "outputs": [],
   "source": [
    "from keras.models import Sequential \n",
    "from keras.layers import Dense,Activation,Dropout \n",
    "from tensorflow.keras.layers import BatchNormalization\n",
    "from keras.utils import np_utils\n",
    "#import keras\n",
    "\n",
    "from tensorflow.keras.callbacks import TensorBoard\n",
    "import keras_tuner as kt\n",
    "import tensorflow as tf\n",
    "from tensorflow import keras\n",
    "from tensorflow.keras.layers import Conv2D, MaxPooling2D, Dense, Flatten, Activation\n",
    "from tensorflow.keras import layers\n",
    "import keras_tuner\n",
    "from kerastuner.tuners import RandomSearch\n",
    "from kerastuner.engine.hyperparameters import HyperParameters\n",
    "import time\n",
    "import pickle\n",
    "\n",
    "LOG_DIR = f\"{int(time.time())}\""
   ]
  },
  {
   "cell_type": "code",
   "execution_count": null,
   "id": "f3ea8851",
   "metadata": {},
   "outputs": [],
   "source": [
    "#Build a neural network\n",
    "def model_builder(hp):\n",
    "    model = keras.Sequential()\n",
    "    model.add(Dense(100,input_dim=26,activation='sigmoid'))\n",
    "    #model.add(keras.layers.Flatten(input_shape=(28, 28)))\n",
    "\n",
    "    # Tune the number of units in the first Dense layer\n",
    "    # Choose an optimal value between 32-512\n",
    "    hp_units = hp.Int('units', min_value=32, max_value=512, step=32)\n",
    "    model.add(keras.layers.Dense(units=hp_units, activation='sigmoid'))\n",
    "    model.add(keras.layers.Dense(2))\n",
    "\n",
    "    # Tune the learning rate for the optimizer\n",
    "    # Choose an optimal value from 0.01, 0.001, or 0.0001\n",
    "    hp_learning_rate = hp.Choice('learning_rate', values=[1e-1,1e-2, 1e-3, 1e-4])\n",
    "\n",
    "    model.compile(optimizer=keras.optimizers.Adam(learning_rate=hp_learning_rate),\n",
    "                    loss=keras.losses.BinaryCrossentropy(),\n",
    "                    metrics=['accuracy'])\n",
    "\n",
    "    return model"
   ]
  },
  {
   "cell_type": "code",
   "execution_count": null,
   "id": "1de937fe",
   "metadata": {},
   "outputs": [],
   "source": [
    "tuner = kt.Hyperband(model_builder,\n",
    "                     objective='accuracy',\n",
    "                     max_epochs=50,\n",
    "                     factor=3,\n",
    "                     directory='my_dir',\n",
    "                     project_name='intro_to_kt')\n"
   ]
  },
  {
   "cell_type": "code",
   "execution_count": null,
   "id": "32391151",
   "metadata": {},
   "outputs": [],
   "source": [
    "stop_early = tf.keras.callbacks.EarlyStopping(monitor='val_loss', patience=5)\n"
   ]
  },
  {
   "cell_type": "code",
   "execution_count": null,
   "id": "58dbb688",
   "metadata": {},
   "outputs": [],
   "source": [
    "tuner.search(X_train, y_train, epochs=50, validation_split=0.2, callbacks=[stop_early])\n",
    "\n",
    "# Get the optimal hyperparameters\n",
    "best_hps=tuner.get_best_hyperparameters(num_trials=1)[0]\n",
    "\n",
    "print(f\"\"\"\n",
    "The hyperparameter search is complete. The optimal number of units in the first densely-connected\n",
    "layer is {best_hps.get('units')} and the optimal learning rate for the optimizer\n",
    "is {best_hps.get('learning_rate')}.\n",
    "\"\"\")\n"
   ]
  },
  {
   "cell_type": "code",
   "execution_count": null,
   "id": "94337430",
   "metadata": {},
   "outputs": [],
   "source": [
    "# Build the model with the optimal hyperparameters and train it on the data for 50 epochs\n",
    "model = tuner.hypermodel.build(best_hps)\n",
    "history = model.fit(X_train, y_train, epochs=500, validation_split=0.2)\n",
    "\n",
    "val_acc_per_epoch = history.history['val_accuracy']\n",
    "best_epoch = val_acc_per_epoch.index(max(val_acc_per_epoch)) + 1\n",
    "print('Best epoch: %d' % (best_epoch,))\n"
   ]
  },
  {
   "cell_type": "code",
   "execution_count": null,
   "id": "6364ab8d",
   "metadata": {},
   "outputs": [],
   "source": [
    "hypermodel = tuner.hypermodel.build(best_hps)\n",
    "\n",
    "# Retrain the model\n",
    "hypermodel.fit(X_train, y_train, epochs=best_epoch, validation_split=0.2)\n"
   ]
  },
  {
   "cell_type": "code",
   "execution_count": null,
   "id": "43767f02",
   "metadata": {},
   "outputs": [],
   "source": [
    "hypermodel.summary()"
   ]
  },
  {
   "cell_type": "code",
   "execution_count": null,
   "id": "472641c6",
   "metadata": {},
   "outputs": [],
   "source": [
    "eval_result = hypermodel.evaluate(X_test, y_test)\n",
    "print(\"[test loss, test accuracy]:\", eval_result)\n"
   ]
  },
  {
   "cell_type": "code",
   "execution_count": null,
   "id": "9ce6d1a4",
   "metadata": {},
   "outputs": [],
   "source": [
    "from sklearn.metrics import auc\n",
    "y_pred_rf = hypermodel.predict(X_test)[:, 1]\n",
    "fpr_rf, tpr_rf, thresholds_rf = roc_curve(y_test, y_pred_rf)\n",
    "auc_rf = auc(fpr_rf, tpr_rf)\n",
    "auc_rf"
   ]
  },
  {
   "cell_type": "code",
   "execution_count": null,
   "id": "86541c4d",
   "metadata": {},
   "outputs": [],
   "source": [
    "X_test.shape"
   ]
  },
  {
   "cell_type": "code",
   "execution_count": null,
   "id": "06e714c4",
   "metadata": {},
   "outputs": [],
   "source": [
    "y_pred_rf = hypermodel.predict(X_test)\n",
    "y_pred_rf.shape"
   ]
  },
  {
   "cell_type": "code",
   "execution_count": null,
   "id": "d475ba07",
   "metadata": {},
   "outputs": [],
   "source": []
  }
 ],
 "metadata": {
  "kernelspec": {
   "display_name": "Python 3 (ipykernel)",
   "language": "python",
   "name": "python3"
  },
  "language_info": {
   "codemirror_mode": {
    "name": "ipython",
    "version": 3
   },
   "file_extension": ".py",
   "mimetype": "text/x-python",
   "name": "python",
   "nbconvert_exporter": "python",
   "pygments_lexer": "ipython3",
   "version": "3.9.5"
  }
 },
 "nbformat": 4,
 "nbformat_minor": 5
}
